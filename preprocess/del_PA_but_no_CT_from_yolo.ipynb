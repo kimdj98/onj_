{
 "cells": [
  {
   "cell_type": "code",
   "execution_count": 11,
   "metadata": {},
   "outputs": [],
   "source": [
    "import os\n",
    "\n",
    "os.chdir(\"/mnt/aix22301/onj\")\n",
    "with open(\"./patient_list.txt\", \"r\") as f:\n",
    "    lines = f.readlines()"
   ]
  },
  {
   "cell_type": "code",
   "execution_count": 13,
   "metadata": {},
   "outputs": [
    {
     "data": {
      "text/plain": [
       "['/mnt/aix22301/onj/dataset/v0/YOLO_PA2/images/train/EW-0223.jpg',\n",
       " '/mnt/aix22301/onj/dataset/v0/YOLO_PA2/images/train/EW-0078.jpg',\n",
       " '/mnt/aix22301/onj/dataset/v0/YOLO_PA2/images/train/EW-0141.jpg',\n",
       " '/mnt/aix22301/onj/dataset/v0/YOLO_PA2/images/train/EW-0262.jpg',\n",
       " '/mnt/aix22301/onj/dataset/v0/YOLO_PA2/images/train/EW-0107.jpg',\n",
       " '/mnt/aix22301/onj/dataset/v0/YOLO_PA2/images/train/EW-0344.jpg',\n",
       " '/mnt/aix22301/onj/dataset/v0/YOLO_PA2/images/train/EW-0041.jpg',\n",
       " '/mnt/aix22301/onj/dataset/v0/YOLO_PA2/images/train/EW-0516.jpg',\n",
       " '/mnt/aix22301/onj/dataset/v0/YOLO_PA2/images/train/EW-0211.jpg',\n",
       " '/mnt/aix22301/onj/dataset/v0/YOLO_PA2/images/train/EW-0160.jpg',\n",
       " '/mnt/aix22301/onj/dataset/v0/YOLO_PA2/images/train/EW-0481.jpg',\n",
       " '/mnt/aix22301/onj/dataset/v0/YOLO_PA2/images/train/EW-0350.jpg',\n",
       " '/mnt/aix22301/onj/dataset/v0/YOLO_PA2/images/train/EW-0456.jpg',\n",
       " '/mnt/aix22301/onj/dataset/v0/YOLO_PA2/images/train/EW-0143.jpg',\n",
       " '/mnt/aix22301/onj/dataset/v0/YOLO_PA2/images/train/EW-0016.jpg',\n",
       " '/mnt/aix22301/onj/dataset/v0/YOLO_PA2/images/train/EW-0415.jpg',\n",
       " '/mnt/aix22301/onj/dataset/v0/YOLO_PA2/images/train/EW-0252.jpg',\n",
       " '/mnt/aix22301/onj/dataset/v0/YOLO_PA2/images/train/EW-0312.jpg',\n",
       " '/mnt/aix22301/onj/dataset/v0/YOLO_PA2/images/train/EW-0149.jpg',\n",
       " '/mnt/aix22301/onj/dataset/v0/YOLO_PA2/images/train/EW-0060.jpg',\n",
       " '/mnt/aix22301/onj/dataset/v0/YOLO_PA2/images/train/EW-0331.jpg',\n",
       " '/mnt/aix22301/onj/dataset/v0/YOLO_PA2/images/train/EW-0389.jpg',\n",
       " '/mnt/aix22301/onj/dataset/v0/YOLO_PA2/images/train/EW-0541.jpg',\n",
       " '/mnt/aix22301/onj/dataset/v0/YOLO_PA2/images/train/EW-0245.jpg',\n",
       " '/mnt/aix22301/onj/dataset/v0/YOLO_PA2/images/train/EW-0275.jpg',\n",
       " '/mnt/aix22301/onj/dataset/v0/YOLO_PA2/images/train/EW-0293.jpg',\n",
       " '/mnt/aix22301/onj/dataset/v0/YOLO_PA2/images/train/EW-0148.jpg',\n",
       " '/mnt/aix22301/onj/dataset/v0/YOLO_PA2/images/train/EW-0040.jpg',\n",
       " '/mnt/aix22301/onj/dataset/v0/YOLO_PA2/images/train/EW-0320.jpg',\n",
       " '/mnt/aix22301/onj/dataset/v0/YOLO_PA2/images/train/EW-0150.jpg',\n",
       " '/mnt/aix22301/onj/dataset/v0/YOLO_PA2/images/train/EW-0070.jpg',\n",
       " '/mnt/aix22301/onj/dataset/v0/YOLO_PA2/images/train/EW-0027.jpg',\n",
       " '/mnt/aix22301/onj/dataset/v0/YOLO_PA2/images/train/EW-0022.jpg',\n",
       " '/mnt/aix22301/onj/dataset/v0/YOLO_PA2/images/train/EW-0363.jpg',\n",
       " '/mnt/aix22301/onj/dataset/v0/YOLO_PA2/images/train/EW-0151.jpg',\n",
       " '/mnt/aix22301/onj/dataset/v0/YOLO_PA2/images/train/EW-0330.jpg',\n",
       " '/mnt/aix22301/onj/dataset/v0/YOLO_PA2/images/train/EW-0115.jpg',\n",
       " '/mnt/aix22301/onj/dataset/v0/YOLO_PA2/images/train/EW-0545.jpg',\n",
       " '/mnt/aix22301/onj/dataset/v0/YOLO_PA2/images/train/EW-0549.jpg',\n",
       " '/mnt/aix22301/onj/dataset/v0/YOLO_PA2/images/train/EW-0163.jpg',\n",
       " '/mnt/aix22301/onj/dataset/v0/YOLO_PA2/images/train/EW-0274.jpg',\n",
       " '/mnt/aix22301/onj/dataset/v0/YOLO_PA2/images/train/EW-0512.jpg',\n",
       " '/mnt/aix22301/onj/dataset/v0/YOLO_PA2/images/train/EW-0017.jpg',\n",
       " '/mnt/aix22301/onj/dataset/v0/YOLO_PA2/images/train/EW-0367.jpg',\n",
       " '/mnt/aix22301/onj/dataset/v0/YOLO_PA2/images/train/EW-0182.jpg',\n",
       " '/mnt/aix22301/onj/dataset/v0/YOLO_PA2/images/train/EW-0179.jpg',\n",
       " '/mnt/aix22301/onj/dataset/v0/YOLO_PA2/images/train/EW-0375.jpg',\n",
       " '/mnt/aix22301/onj/dataset/v0/YOLO_PA2/images/train/EW-0170.jpg',\n",
       " '/mnt/aix22301/onj/dataset/v0/YOLO_PA2/images/train/EW-0280.jpg',\n",
       " '/mnt/aix22301/onj/dataset/v0/YOLO_PA2/images/train/EW-0167.jpg',\n",
       " '/mnt/aix22301/onj/dataset/v0/YOLO_PA2/images/train/EW-0268.jpg',\n",
       " '/mnt/aix22301/onj/dataset/v0/YOLO_PA2/images/train/EW-0416.jpg',\n",
       " '/mnt/aix22301/onj/dataset/v0/YOLO_PA2/images/train/EW-0086.jpg',\n",
       " '/mnt/aix22301/onj/dataset/v0/YOLO_PA2/images/train/EW-0393.jpg',\n",
       " '/mnt/aix22301/onj/dataset/v0/YOLO_PA2/images/val/EW-0088.jpg',\n",
       " '/mnt/aix22301/onj/dataset/v0/YOLO_PA2/images/val/EW-0219.jpg']"
      ]
     },
     "execution_count": 13,
     "metadata": {},
     "output_type": "execute_result"
    }
   ],
   "source": [
    "files = [line.split(\" \")[-1].strip() for line in lines]\n",
    "files"
   ]
  },
  {
   "cell_type": "code",
   "execution_count": 14,
   "metadata": {},
   "outputs": [
    {
     "ename": "FileNotFoundError",
     "evalue": "[Errno 2] No such file or directory: '/mnt/aix22301/onj/dataset/v0/YOLO_PA2/images/val/EW-0088.jpg'",
     "output_type": "error",
     "traceback": [
      "\u001b[0;31m---------------------------------------------------------------------------\u001b[0m",
      "\u001b[0;31mFileNotFoundError\u001b[0m                         Traceback (most recent call last)",
      "Cell \u001b[0;32mIn[14], line 3\u001b[0m\n\u001b[1;32m      1\u001b[0m \u001b[38;5;66;03m# delete files in files list\u001b[39;00m\n\u001b[1;32m      2\u001b[0m \u001b[38;5;28;01mfor\u001b[39;00m file \u001b[38;5;129;01min\u001b[39;00m files[\u001b[38;5;241m-\u001b[39m\u001b[38;5;241m2\u001b[39m:]:\n\u001b[0;32m----> 3\u001b[0m     \u001b[43mos\u001b[49m\u001b[38;5;241;43m.\u001b[39;49m\u001b[43mremove\u001b[49m\u001b[43m(\u001b[49m\u001b[43mfile\u001b[49m\u001b[43m)\u001b[49m\n\u001b[1;32m      4\u001b[0m     \u001b[38;5;28mprint\u001b[39m(\u001b[38;5;124mf\u001b[39m\u001b[38;5;124m\"\u001b[39m\u001b[38;5;124mdeleted \u001b[39m\u001b[38;5;132;01m{\u001b[39;00mfile\u001b[38;5;132;01m}\u001b[39;00m\u001b[38;5;124m\"\u001b[39m)\n",
      "\u001b[0;31mFileNotFoundError\u001b[0m: [Errno 2] No such file or directory: '/mnt/aix22301/onj/dataset/v0/YOLO_PA2/images/val/EW-0088.jpg'"
     ]
    }
   ],
   "source": [
    "# delete files in files list\n",
    "for file in files[-2:]:\n",
    "    os.remove(file)\n",
    "    print(f\"deleted {file}\")"
   ]
  },
  {
   "cell_type": "code",
   "execution_count": null,
   "metadata": {},
   "outputs": [],
   "source": []
  }
 ],
 "metadata": {
  "kernelspec": {
   "display_name": "onj",
   "language": "python",
   "name": "python3"
  },
  "language_info": {
   "codemirror_mode": {
    "name": "ipython",
    "version": 3
   },
   "file_extension": ".py",
   "mimetype": "text/x-python",
   "name": "python",
   "nbconvert_exporter": "python",
   "pygments_lexer": "ipython3",
   "version": "3.10.14"
  }
 },
 "nbformat": 4,
 "nbformat_minor": 2
}
