{
 "cells": [
  {
   "cell_type": "code",
   "execution_count": 1,
   "metadata": {},
   "outputs": [],
   "source": [
    "import os\n",
    "from pathlib import Path\n",
    "import sys"
   ]
  },
  {
   "cell_type": "code",
   "execution_count": 2,
   "metadata": {},
   "outputs": [
    {
     "data": {
      "text/plain": [
       "'/mnt/4TB1/onj/onj_project_template/preprocess'"
      ]
     },
     "execution_count": 2,
     "metadata": {},
     "output_type": "execute_result"
    }
   ],
   "source": [
    "os.getcwd()"
   ]
  },
  {
   "cell_type": "code",
   "execution_count": 3,
   "metadata": {},
   "outputs": [],
   "source": [
    "DATAPATH = Path(\"../../dataset/v0/\")"
   ]
  },
  {
   "cell_type": "code",
   "execution_count": 4,
   "metadata": {},
   "outputs": [
    {
     "name": "stdout",
     "output_type": "stream",
     "text": [
      "../../dataset/v0/ONJ/EW-0003/MDCT/20191212/MDCT_axial\n"
     ]
    }
   ],
   "source": [
    "patient_path = DATAPATH / \"ONJ\" / \"EW-0003\" / \"MDCT\" / \"20191212\" / \"MDCT_axial\"\n",
    "print(patient_path)"
   ]
  },
  {
   "cell_type": "code",
   "execution_count": 5,
   "metadata": {},
   "outputs": [],
   "source": [
    "import dicom2nifti"
   ]
  },
  {
   "cell_type": "code",
   "execution_count": 6,
   "metadata": {},
   "outputs": [
    {
     "data": {
      "text/plain": [
       "['MD157.dcm',\n",
       " 'MD62.dcm',\n",
       " 'MD127.dcm',\n",
       " 'MD14.dcm',\n",
       " 'MD134.dcm',\n",
       " 'MD50.dcm',\n",
       " 'MD27.dcm',\n",
       " 'MD8.dcm',\n",
       " 'MD30.dcm',\n",
       " 'MD102.dcm',\n",
       " 'MD67.dcm',\n",
       " 'MD69.dcm',\n",
       " 'MD173.dcm',\n",
       " 'MD174.dcm',\n",
       " 'MD12.dcm',\n",
       " 'MD131.dcm',\n",
       " 'MD97.dcm',\n",
       " 'MD73.dcm',\n",
       " 'MD48.dcm',\n",
       " 'MD167.dcm',\n",
       " 'MD2.dcm',\n",
       " 'MD40.dcm',\n",
       " 'MD114.dcm',\n",
       " 'MD71.dcm',\n",
       " 'MD21.dcm',\n",
       " 'MD31.dcm',\n",
       " 'MD76.dcm',\n",
       " 'MD150.dcm',\n",
       " 'MD172.dcm',\n",
       " 'MD13.dcm',\n",
       " 'MD132.dcm',\n",
       " 'MD140.dcm',\n",
       " 'MD64.dcm',\n",
       " 'MD74.dcm',\n",
       " 'MD3.dcm',\n",
       " 'MD6.dcm',\n",
       " 'MD149.dcm',\n",
       " 'MD146.dcm',\n",
       " 'MD0.dcm',\n",
       " 'MD155.dcm',\n",
       " 'MD141.dcm',\n",
       " 'MD111.dcm',\n",
       " 'MD23.dcm',\n",
       " 'MD183.dcm',\n",
       " 'MD117.dcm',\n",
       " 'MD169.dcm',\n",
       " 'MD145.dcm',\n",
       " 'MD46.dcm',\n",
       " 'MD133.dcm',\n",
       " 'MD34.dcm',\n",
       " 'MD104.dcm',\n",
       " 'MD153.dcm',\n",
       " 'MD45.dcm',\n",
       " 'MD103.dcm',\n",
       " 'MD98.dcm',\n",
       " 'MD60.dcm',\n",
       " 'MD170.dcm',\n",
       " 'MD81.dcm',\n",
       " 'MD118.dcm',\n",
       " 'MD66.dcm',\n",
       " 'MD135.dcm',\n",
       " 'MD123.dcm',\n",
       " 'MD47.dcm',\n",
       " 'MD136.dcm',\n",
       " 'MD44.dcm',\n",
       " 'MD95.dcm',\n",
       " 'MD120.dcm',\n",
       " 'MD166.dcm',\n",
       " 'MD121.dcm',\n",
       " 'MD75.dcm',\n",
       " 'MD105.dcm',\n",
       " 'MD122.dcm',\n",
       " 'MD28.dcm',\n",
       " 'MD68.dcm',\n",
       " 'MD5.dcm',\n",
       " 'MD61.dcm',\n",
       " 'MD55.dcm',\n",
       " 'MD22.dcm',\n",
       " 'MD163.dcm',\n",
       " 'MD11.dcm',\n",
       " 'MD101.dcm',\n",
       " 'MD58.dcm',\n",
       " 'MD161.dcm',\n",
       " 'MD41.dcm',\n",
       " 'MD109.dcm',\n",
       " 'MD9.dcm',\n",
       " 'MD108.dcm',\n",
       " 'MD88.dcm',\n",
       " 'MD90.dcm',\n",
       " 'MD72.dcm',\n",
       " 'MD18.dcm',\n",
       " 'MD112.dcm',\n",
       " 'MD179.dcm',\n",
       " 'MD25.dcm',\n",
       " 'MD116.dcm',\n",
       " 'MD54.dcm',\n",
       " 'MD113.dcm',\n",
       " 'MD147.dcm',\n",
       " 'MD180.dcm',\n",
       " 'MD42.dcm',\n",
       " 'MD63.dcm',\n",
       " 'MD151.dcm',\n",
       " 'MD70.dcm',\n",
       " 'MD164.dcm',\n",
       " 'MD92.dcm',\n",
       " 'MD78.dcm',\n",
       " 'MD1.dcm',\n",
       " 'MD160.dcm',\n",
       " 'MD156.dcm',\n",
       " 'MD65.dcm',\n",
       " 'MD57.dcm',\n",
       " 'MD7.dcm',\n",
       " 'MD17.dcm',\n",
       " 'MD130.dcm',\n",
       " 'MD142.dcm',\n",
       " 'MD56.dcm',\n",
       " 'MD154.dcm',\n",
       " 'MD168.dcm',\n",
       " 'MD10.dcm',\n",
       " 'MD52.dcm',\n",
       " 'MD115.dcm',\n",
       " 'MD16.dcm',\n",
       " 'MD176.dcm',\n",
       " 'MD129.dcm',\n",
       " 'MD83.dcm',\n",
       " 'MD177.dcm',\n",
       " 'MD162.dcm',\n",
       " 'MD137.dcm',\n",
       " 'MD33.dcm',\n",
       " 'MD107.dcm',\n",
       " 'MD39.dcm',\n",
       " 'MD82.dcm',\n",
       " 'MD35.dcm',\n",
       " 'MD19.dcm',\n",
       " 'MD32.dcm',\n",
       " 'MD20.dcm',\n",
       " 'MD138.dcm',\n",
       " 'MD85.dcm',\n",
       " 'MD53.dcm',\n",
       " 'MD80.dcm',\n",
       " 'MD15.dcm',\n",
       " 'MD152.dcm',\n",
       " 'MD84.dcm',\n",
       " 'MD29.dcm',\n",
       " 'MD128.dcm',\n",
       " 'MD165.dcm',\n",
       " 'MD171.dcm',\n",
       " 'MD178.dcm',\n",
       " 'MD36.dcm',\n",
       " 'MD77.dcm',\n",
       " 'MD124.dcm',\n",
       " 'MD59.dcm',\n",
       " 'MD158.dcm',\n",
       " 'MD4.dcm',\n",
       " 'MD89.dcm',\n",
       " 'MD99.dcm',\n",
       " 'MD37.dcm',\n",
       " 'MD119.dcm',\n",
       " 'MD143.dcm',\n",
       " 'MD110.dcm',\n",
       " 'MD126.dcm',\n",
       " 'MD38.dcm',\n",
       " 'MD181.dcm',\n",
       " 'MD26.dcm',\n",
       " 'MD43.dcm',\n",
       " 'MD86.dcm',\n",
       " 'MD100.dcm',\n",
       " 'MD51.dcm',\n",
       " 'MD139.dcm',\n",
       " 'MD148.dcm',\n",
       " 'MD125.dcm',\n",
       " 'MD175.dcm',\n",
       " 'MD159.dcm',\n",
       " 'MD49.dcm',\n",
       " 'MD106.dcm',\n",
       " 'MD79.dcm',\n",
       " 'MD182.dcm',\n",
       " 'MD93.dcm',\n",
       " 'MD144.dcm',\n",
       " 'MD94.dcm',\n",
       " 'MD91.dcm',\n",
       " 'MD96.dcm',\n",
       " 'MD24.dcm',\n",
       " 'MD87.dcm']"
      ]
     },
     "execution_count": 6,
     "metadata": {},
     "output_type": "execute_result"
    }
   ],
   "source": [
    "os.listdir(str(patient_path / \"dicom\"))"
   ]
  },
  {
   "cell_type": "code",
   "execution_count": 13,
   "metadata": {},
   "outputs": [
    {
     "name": "stdout",
     "output_type": "stream",
     "text": [
      "../../dataset/v0/ONJ/EW-0003/MDCT/20191212/MDCT_axial/dicom\n",
      "../../dataset/v0/ONJ/EW-0003/MDCT/20191212/MDCT_axial/nifti\n"
     ]
    }
   ],
   "source": [
    "input_directory = str(patient_path / \"dicom\")\n",
    "output_directory = str(patient_path / \"nifti\")\n",
    "\n",
    "print(input_directory)\n",
    "print(output_directory)\n",
    "\n",
    "# os.makedirs(output_directory, exist_ok=True)\n",
    "\n",
    "# dicom2nifti.convert_directory(input_directory, output_directory)"
   ]
  },
  {
   "cell_type": "code",
   "execution_count": null,
   "metadata": {},
   "outputs": [],
   "source": [
    "dicom2nifti.dicom_series_to_nifti(input_directory, output_directory)"
   ]
  },
  {
   "cell_type": "code",
   "execution_count": 11,
   "metadata": {},
   "outputs": [
    {
     "name": "stdout",
     "output_type": "stream",
     "text": [
      "../../dataset/v0/ONJ/EW-0003/MDCT/20191212/MDCT_axial/dicom\n",
      "../../dataset/v0/ONJ/EW-0003/MDCT/20191212/MDCT_axial/nifti\n"
     ]
    }
   ],
   "source": [
    "print(input_directory)\n",
    "print(output_directory)"
   ]
  },
  {
   "cell_type": "code",
   "execution_count": null,
   "metadata": {},
   "outputs": [],
   "source": [
    "from pathlib import Path\n",
    "import os\n",
    "ONJ_PATH = DATAPATH / \"ONJ\"\n",
    "NONONJ_PATH = DATAPATH / \"NonONJ\"\n",
    "error_folders = []\n",
    "CT_modals = [\"MDCT\", \"CBCT\"]\n",
    "\n",
    "# Convert ONJ dicom file to nifti\n",
    "for patient in os.listdir(ONJ_PATH):\n",
    "    patient_path = ONJ_PATH / patient\n",
    "    for modal in os.listdir(str(patient_path)):\n",
    "        if modal in CT_modals:\n",
    "            modal_path = patient_path / modal            \n",
    "            modal_dir_path = list(modal_path.glob(\"*/*\"))\n",
    "            for folder in modal_dir_path:\n",
    "                try:\n",
    "                    os.makedirs(folder / \"nifti\", exist_ok=True)\n",
    "                    print(\"Converting\", folder / \"dicom\")\n",
    "                    dicom2nifti.convert_directory(str(folder / \"dicom\"), str(folder / \"nifti\"))\n",
    "                    print(\"Converted\", folder / \"nifti\")\n",
    "                except:\n",
    "                    print(\"Error in converting\", folder / \"dicom\")\n",
    "                    error_folders.append(folder / \"dicom\")\n",
    "                    continue\n",
    "\n",
    "\n",
    "for patient in os.listdir(NONONJ_PATH):\n",
    "    patient_path = NONONJ_PATH / patient\n",
    "    for modal in os.listdir(str(patient_path)):\n",
    "        if modal in CT_modals:\n",
    "            modal_path = patient_path / modal            \n",
    "            modal_dir_path = list(modal_path.glob(\"*/*\"))\n",
    "            for folder in modal_dir_path:\n",
    "                try:\n",
    "                    os.makedirs(folder / \"nifti\", exist_ok=True)\n",
    "                    print(\"Converting\", folder)\n",
    "                    dicom2nifti.convert_directory(str(folder / \"dicom\"), str(folder / \"nifti\"))\n",
    "                    print(\"Converted\", folder)\n",
    "                except:\n",
    "                    print(\"Error in converting\", folder)\n",
    "                    continue\n"
   ]
  },
  {
   "cell_type": "code",
   "execution_count": 22,
   "metadata": {},
   "outputs": [
    {
     "name": "stdout",
     "output_type": "stream",
     "text": [
      "[PosixPath('/mnt/4TB1/onj/dataset/v0/ONJ/EW-0001/CBCT/20190724/CBCT_axial/dicom/CB4.dcm'), PosixPath('/mnt/4TB1/onj/dataset/v0/ONJ/EW-0001/CBCT/20190724/CBCT_axial/dicom/CB11.dcm'), PosixPath('/mnt/4TB1/onj/dataset/v0/ONJ/EW-0001/CBCT/20190724/CBCT_axial/dicom/CB27.dcm'), PosixPath('/mnt/4TB1/onj/dataset/v0/ONJ/EW-0001/CBCT/20190724/CBCT_axial/dicom/CB35.dcm'), PosixPath('/mnt/4TB1/onj/dataset/v0/ONJ/EW-0001/CBCT/20190724/CBCT_axial/dicom/CB18.dcm'), PosixPath('/mnt/4TB1/onj/dataset/v0/ONJ/EW-0001/CBCT/20190724/CBCT_axial/dicom/CB17.dcm'), PosixPath('/mnt/4TB1/onj/dataset/v0/ONJ/EW-0001/CBCT/20190724/CBCT_axial/dicom/CB15.dcm'), PosixPath('/mnt/4TB1/onj/dataset/v0/ONJ/EW-0001/CBCT/20190724/CBCT_axial/dicom/CB36.dcm'), PosixPath('/mnt/4TB1/onj/dataset/v0/ONJ/EW-0001/CBCT/20190724/CBCT_axial/dicom/CB7.dcm'), PosixPath('/mnt/4TB1/onj/dataset/v0/ONJ/EW-0001/CBCT/20190724/CBCT_axial/dicom/CB30.dcm'), PosixPath('/mnt/4TB1/onj/dataset/v0/ONJ/EW-0001/CBCT/20190724/CBCT_axial/dicom/CB22.dcm'), PosixPath('/mnt/4TB1/onj/dataset/v0/ONJ/EW-0001/CBCT/20190724/CBCT_axial/dicom/CB37.dcm'), PosixPath('/mnt/4TB1/onj/dataset/v0/ONJ/EW-0001/CBCT/20190724/CBCT_axial/dicom/CB1.dcm'), PosixPath('/mnt/4TB1/onj/dataset/v0/ONJ/EW-0001/CBCT/20190724/CBCT_axial/dicom/CB2.dcm'), PosixPath('/mnt/4TB1/onj/dataset/v0/ONJ/EW-0001/CBCT/20190724/CBCT_axial/dicom/CB32.dcm'), PosixPath('/mnt/4TB1/onj/dataset/v0/ONJ/EW-0001/CBCT/20190724/CBCT_axial/dicom/CB39.dcm'), PosixPath('/mnt/4TB1/onj/dataset/v0/ONJ/EW-0001/CBCT/20190724/CBCT_axial/dicom/CB24.dcm'), PosixPath('/mnt/4TB1/onj/dataset/v0/ONJ/EW-0001/CBCT/20190724/CBCT_axial/dicom/CB6.dcm'), PosixPath('/mnt/4TB1/onj/dataset/v0/ONJ/EW-0001/CBCT/20190724/CBCT_axial/dicom/CB33.dcm'), PosixPath('/mnt/4TB1/onj/dataset/v0/ONJ/EW-0001/CBCT/20190724/CBCT_axial/dicom/CB20.dcm'), PosixPath('/mnt/4TB1/onj/dataset/v0/ONJ/EW-0001/CBCT/20190724/CBCT_axial/dicom/CB14.dcm'), PosixPath('/mnt/4TB1/onj/dataset/v0/ONJ/EW-0001/CBCT/20190724/CBCT_axial/dicom/CB5.dcm'), PosixPath('/mnt/4TB1/onj/dataset/v0/ONJ/EW-0001/CBCT/20190724/CBCT_axial/dicom/CB31.dcm'), PosixPath('/mnt/4TB1/onj/dataset/v0/ONJ/EW-0001/CBCT/20190724/CBCT_axial/dicom/CB16.dcm'), PosixPath('/mnt/4TB1/onj/dataset/v0/ONJ/EW-0001/CBCT/20190724/CBCT_axial/dicom/CB26.dcm'), PosixPath('/mnt/4TB1/onj/dataset/v0/ONJ/EW-0001/CBCT/20190724/CBCT_axial/dicom/CB38.dcm'), PosixPath('/mnt/4TB1/onj/dataset/v0/ONJ/EW-0001/CBCT/20190724/CBCT_axial/dicom/CB19.dcm'), PosixPath('/mnt/4TB1/onj/dataset/v0/ONJ/EW-0001/CBCT/20190724/CBCT_axial/dicom/CB8.dcm'), PosixPath('/mnt/4TB1/onj/dataset/v0/ONJ/EW-0001/CBCT/20190724/CBCT_axial/dicom/CB28.dcm'), PosixPath('/mnt/4TB1/onj/dataset/v0/ONJ/EW-0001/CBCT/20190724/CBCT_axial/dicom/CB29.dcm'), PosixPath('/mnt/4TB1/onj/dataset/v0/ONJ/EW-0001/CBCT/20190724/CBCT_axial/dicom/CB3.dcm'), PosixPath('/mnt/4TB1/onj/dataset/v0/ONJ/EW-0001/CBCT/20190724/CBCT_axial/dicom/CB21.dcm'), PosixPath('/mnt/4TB1/onj/dataset/v0/ONJ/EW-0001/CBCT/20190724/CBCT_axial/dicom/CB0.dcm'), PosixPath('/mnt/4TB1/onj/dataset/v0/ONJ/EW-0001/CBCT/20190724/CBCT_axial/dicom/CB34.dcm'), PosixPath('/mnt/4TB1/onj/dataset/v0/ONJ/EW-0001/CBCT/20190724/CBCT_axial/dicom/CB12.dcm'), PosixPath('/mnt/4TB1/onj/dataset/v0/ONJ/EW-0001/CBCT/20190724/CBCT_axial/dicom/CB9.dcm'), PosixPath('/mnt/4TB1/onj/dataset/v0/ONJ/EW-0001/CBCT/20190724/CBCT_axial/dicom/CB10.dcm'), PosixPath('/mnt/4TB1/onj/dataset/v0/ONJ/EW-0001/CBCT/20190724/CBCT_axial/dicom/CB23.dcm'), PosixPath('/mnt/4TB1/onj/dataset/v0/ONJ/EW-0001/CBCT/20190724/CBCT_axial/dicom/CB25.dcm'), PosixPath('/mnt/4TB1/onj/dataset/v0/ONJ/EW-0001/CBCT/20190724/CBCT_axial/dicom/CB13.dcm')]\n"
     ]
    }
   ],
   "source": [
    "import pydicom\n",
    "from PIL import Image\n",
    "import numpy as np\n",
    "\n",
    "dicom_folder = Path(\"/mnt/4TB1/onj/dataset/v0/ONJ/EW-0001/CBCT/20190724/CBCT_axial/dicom\")\n",
    "dicom_files = list(dicom_folder.glob(\"*\"))\n",
    "print(dicom_files)\n",
    "# Load the compressed DICOM file\n",
    "\n",
    "for dicom_file_name in dicom_files:\n",
    "    dicom_file = pydicom.dcmread(dicom_file_name)\n",
    "\n",
    "    # Extract the pixel data\n",
    "    pixel_array = dicom_file.pixel_array\n",
    "\n",
    "    # Convert to PIL Image (for demonstration, this assumes the pixel data is in a format that Pillow can handle directly)\n",
    "    image = Image.fromarray(pixel_array)\n",
    "\n",
    "    # If necessary, here you could adjust the image, change compression, etc.\n",
    "    # For decompression, you might not need to do anything specific here,\n",
    "    # but for changing compression or format, you would use Pillow's methods.\n",
    "\n",
    "    # Convert back to numpy array if you've made changes with Pillow\n",
    "    modified_pixel_array = np.array(image)\n",
    "\n",
    "    # Update the DICOM file with the new uncompressed pixel data\n",
    "    dicom_file.PixelData = modified_pixel_array.tobytes()\n",
    "\n",
    "    # Update additional DICOM tags related to the image format if necessary\n",
    "    # For example, changing the Transfer Syntax UID to indicate uncompressed data\n",
    "    dicom_file.file_meta.TransferSyntaxUID = pydicom.uid.ImplicitVRLittleEndian\n",
    "\n",
    "    # Save the modified DICOM file\n",
    "    dicom_file.save_as(\n",
    "        str(dicom_folder.parent / \"dicom2\" / dicom_file_name.name)\n",
    "    )"
   ]
  },
  {
   "cell_type": "code",
   "execution_count": 23,
   "metadata": {},
   "outputs": [
    {
     "name": "stdout",
     "output_type": "stream",
     "text": [
      "../../dataset/v0/ONJ/EW-0001/CBCT/20190724/CBCT_axial\n",
      "../../dataset/v0/ONJ/EW-0001/CBCT/20190724/CBCT_axial/dicom2\n",
      "../../dataset/v0/ONJ/EW-0001/CBCT/20190724/CBCT_axial/nifti\n"
     ]
    }
   ],
   "source": [
    "patient_path = DATAPATH / \"ONJ\" / \"EW-0001\" / \"CBCT\" / \"20190724\" / \"CBCT_axial\"\n",
    "print(patient_path)\n",
    "\n",
    "input_directory = str(patient_path / \"dicom2\")\n",
    "output_directory = str(patient_path / \"nifti\")\n",
    "\n",
    "print(input_directory)\n",
    "print(output_directory)\n",
    "\n",
    "# os.makedirs(output_directory, exist_ok=True)\n",
    "\n",
    "# dicom2nifti.convert_directory(input_directory, output_directory)"
   ]
  },
  {
   "cell_type": "code",
   "execution_count": 24,
   "metadata": {},
   "outputs": [
    {
     "name": "stderr",
     "output_type": "stream",
     "text": [
      "/home/kim/anaconda3/envs/onj/lib/python3.10/site-packages/pydicom/filereader.py:353: UserWarning: Expected implicit VR, but found explicit VR - using explicit VR for reading\n",
      "  warnings.warn(msg + f\" - using {found_vr} VR for reading\", UserWarning)\n"
     ]
    },
    {
     "ename": "TypeError",
     "evalue": "float() argument must be a string or a real number, not 'NoneType'",
     "output_type": "error",
     "traceback": [
      "\u001b[0;31m---------------------------------------------------------------------------\u001b[0m",
      "\u001b[0;31mTypeError\u001b[0m                                 Traceback (most recent call last)",
      "Cell \u001b[0;32mIn[24], line 1\u001b[0m\n\u001b[0;32m----> 1\u001b[0m \u001b[43mdicom2nifti\u001b[49m\u001b[38;5;241;43m.\u001b[39;49m\u001b[43mdicom_series_to_nifti\u001b[49m\u001b[43m(\u001b[49m\u001b[43minput_directory\u001b[49m\u001b[43m,\u001b[49m\u001b[43m \u001b[49m\u001b[43moutput_directory\u001b[49m\u001b[43m)\u001b[49m\n",
      "File \u001b[0;32m~/anaconda3/envs/onj/lib/python3.10/site-packages/dicom2nifti/convert_dicom.py:78\u001b[0m, in \u001b[0;36mdicom_series_to_nifti\u001b[0;34m(original_dicom_directory, output_file, reorient_nifti)\u001b[0m\n\u001b[1;32m     74\u001b[0m     shutil\u001b[38;5;241m.\u001b[39mcopytree(original_dicom_directory, dicom_directory)\n\u001b[1;32m     76\u001b[0m     dicom_input \u001b[38;5;241m=\u001b[39m common\u001b[38;5;241m.\u001b[39mread_dicom_directory(dicom_directory)\n\u001b[0;32m---> 78\u001b[0m     \u001b[38;5;28;01mreturn\u001b[39;00m \u001b[43mdicom_array_to_nifti\u001b[49m\u001b[43m(\u001b[49m\u001b[43mdicom_input\u001b[49m\u001b[43m,\u001b[49m\u001b[43m \u001b[49m\u001b[43moutput_file\u001b[49m\u001b[43m,\u001b[49m\u001b[43m \u001b[49m\u001b[43mreorient_nifti\u001b[49m\u001b[43m)\u001b[49m\n\u001b[1;32m     80\u001b[0m \u001b[38;5;28;01mexcept\u001b[39;00m \u001b[38;5;167;01mAttributeError\u001b[39;00m \u001b[38;5;28;01mas\u001b[39;00m exception:\n\u001b[1;32m     81\u001b[0m     \u001b[38;5;28;01mraise\u001b[39;00m exception\n",
      "File \u001b[0;32m~/anaconda3/envs/onj/lib/python3.10/site-packages/dicom2nifti/convert_dicom.py:118\u001b[0m, in \u001b[0;36mdicom_array_to_nifti\u001b[0;34m(dicom_list, output_file, reorient_nifti)\u001b[0m\n\u001b[1;32m    115\u001b[0m vendor \u001b[38;5;241m=\u001b[39m _get_vendor(dicom_list)\n\u001b[1;32m    117\u001b[0m \u001b[38;5;28;01mif\u001b[39;00m vendor \u001b[38;5;241m==\u001b[39m Vendor\u001b[38;5;241m.\u001b[39mGENERIC:\n\u001b[0;32m--> 118\u001b[0m     results \u001b[38;5;241m=\u001b[39m \u001b[43mconvert_generic\u001b[49m\u001b[38;5;241;43m.\u001b[39;49m\u001b[43mdicom_to_nifti\u001b[49m\u001b[43m(\u001b[49m\u001b[43mdicom_list\u001b[49m\u001b[43m,\u001b[49m\u001b[43m \u001b[49m\u001b[43moutput_file\u001b[49m\u001b[43m)\u001b[49m\n\u001b[1;32m    119\u001b[0m \u001b[38;5;28;01melif\u001b[39;00m vendor \u001b[38;5;241m==\u001b[39m Vendor\u001b[38;5;241m.\u001b[39mSIEMENS:\n\u001b[1;32m    120\u001b[0m     results \u001b[38;5;241m=\u001b[39m convert_siemens\u001b[38;5;241m.\u001b[39mdicom_to_nifti(dicom_list, output_file)\n",
      "File \u001b[0;32m~/anaconda3/envs/onj/lib/python3.10/site-packages/dicom2nifti/convert_generic.py:288\u001b[0m, in \u001b[0;36mdicom_to_nifti\u001b[0;34m(dicom_input, output_file)\u001b[0m\n\u001b[1;32m    286\u001b[0m \u001b[38;5;66;03m# Set TR and TE if available\u001b[39;00m\n\u001b[1;32m    287\u001b[0m \u001b[38;5;28;01mif\u001b[39;00m Tag(\u001b[38;5;241m0x0018\u001b[39m, \u001b[38;5;241m0x0080\u001b[39m) \u001b[38;5;129;01min\u001b[39;00m dicom_input[\u001b[38;5;241m0\u001b[39m] \u001b[38;5;129;01mand\u001b[39;00m Tag(\u001b[38;5;241m0x0018\u001b[39m, \u001b[38;5;241m0x0081\u001b[39m) \u001b[38;5;129;01min\u001b[39;00m dicom_input[\u001b[38;5;241m0\u001b[39m]:\n\u001b[0;32m--> 288\u001b[0m     \u001b[43mcommon\u001b[49m\u001b[38;5;241;43m.\u001b[39;49m\u001b[43mset_tr_te\u001b[49m\u001b[43m(\u001b[49m\u001b[43mnii_image\u001b[49m\u001b[43m,\u001b[49m\u001b[43m \u001b[49m\u001b[43mdicom_input\u001b[49m\u001b[43m[\u001b[49m\u001b[38;5;241;43m0\u001b[39;49m\u001b[43m]\u001b[49m\u001b[38;5;241;43m.\u001b[39;49m\u001b[43mRepetitionTime\u001b[49m\u001b[43m,\u001b[49m\u001b[43m \u001b[49m\u001b[43mdicom_input\u001b[49m\u001b[43m[\u001b[49m\u001b[38;5;241;43m0\u001b[39;49m\u001b[43m]\u001b[49m\u001b[38;5;241;43m.\u001b[39;49m\u001b[43mEchoTime\u001b[49m\u001b[43m)\u001b[49m\n\u001b[1;32m    290\u001b[0m \u001b[38;5;66;03m# Save to disk\u001b[39;00m\n\u001b[1;32m    291\u001b[0m \u001b[38;5;28;01mif\u001b[39;00m output_file \u001b[38;5;129;01mis\u001b[39;00m \u001b[38;5;129;01mnot\u001b[39;00m \u001b[38;5;28;01mNone\u001b[39;00m:\n",
      "File \u001b[0;32m~/anaconda3/envs/onj/lib/python3.10/site-packages/dicom2nifti/common.py:1125\u001b[0m, in \u001b[0;36mset_tr_te\u001b[0;34m(nifti_image, repetition_time, echo_time)\u001b[0m\n\u001b[1;32m   1122\u001b[0m         \u001b[38;5;28;01mreturn\u001b[39;00m \u001b[38;5;28;01mFalse\u001b[39;00m\n\u001b[1;32m   1124\u001b[0m \u001b[38;5;66;03m# only set if it is an actual float, can also be empty/none\u001b[39;00m\n\u001b[0;32m-> 1125\u001b[0m \u001b[38;5;28;01mif\u001b[39;00m \u001b[38;5;129;01mnot\u001b[39;00m \u001b[43mis_float\u001b[49m\u001b[43m(\u001b[49m\u001b[43mrepetition_time\u001b[49m\u001b[43m)\u001b[49m \u001b[38;5;129;01mor\u001b[39;00m \u001b[38;5;129;01mnot\u001b[39;00m is_float(echo_time):\n\u001b[1;32m   1126\u001b[0m     \u001b[38;5;28;01mreturn\u001b[39;00m\n\u001b[1;32m   1127\u001b[0m repetition_time \u001b[38;5;241m=\u001b[39m \u001b[38;5;28mfloat\u001b[39m(repetition_time)\n",
      "File \u001b[0;32m~/anaconda3/envs/onj/lib/python3.10/site-packages/dicom2nifti/common.py:1119\u001b[0m, in \u001b[0;36mset_tr_te.<locals>.is_float\u001b[0;34m(number)\u001b[0m\n\u001b[1;32m   1115\u001b[0m \u001b[38;5;250m\u001b[39m\u001b[38;5;124;03m\"\"\"\u001b[39;00m\n\u001b[1;32m   1116\u001b[0m \u001b[38;5;124;03mHelper to check if something is a float\u001b[39;00m\n\u001b[1;32m   1117\u001b[0m \u001b[38;5;124;03m\"\"\"\u001b[39;00m\n\u001b[1;32m   1118\u001b[0m \u001b[38;5;28;01mtry\u001b[39;00m:\n\u001b[0;32m-> 1119\u001b[0m     \u001b[38;5;28;43mfloat\u001b[39;49m\u001b[43m(\u001b[49m\u001b[43mnumber\u001b[49m\u001b[43m)\u001b[49m\n\u001b[1;32m   1120\u001b[0m     \u001b[38;5;28;01mreturn\u001b[39;00m \u001b[38;5;28;01mTrue\u001b[39;00m\n\u001b[1;32m   1121\u001b[0m \u001b[38;5;28;01mexcept\u001b[39;00m \u001b[38;5;167;01mValueError\u001b[39;00m:\n",
      "\u001b[0;31mTypeError\u001b[0m: float() argument must be a string or a real number, not 'NoneType'"
     ]
    }
   ],
   "source": [
    "dicom2nifti.dicom_series_to_nifti(input_directory, output_directory)"
   ]
  },
  {
   "cell_type": "code",
   "execution_count": null,
   "metadata": {},
   "outputs": [],
   "source": []
  }
 ],
 "metadata": {
  "kernelspec": {
   "display_name": "onj",
   "language": "python",
   "name": "python3"
  },
  "language_info": {
   "codemirror_mode": {
    "name": "ipython",
    "version": 3
   },
   "file_extension": ".py",
   "mimetype": "text/x-python",
   "name": "python",
   "nbconvert_exporter": "python",
   "pygments_lexer": "ipython3",
   "version": "3.10.13"
  }
 },
 "nbformat": 4,
 "nbformat_minor": 2
}
