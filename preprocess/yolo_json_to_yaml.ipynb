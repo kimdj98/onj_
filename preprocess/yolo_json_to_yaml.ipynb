{
 "cells": [
  {
   "cell_type": "code",
   "execution_count": 1,
   "metadata": {},
   "outputs": [],
   "source": [
    "import json\n",
    "import os\n",
    "\n",
    "\n",
    "def convert_json_to_yolo(json_path, txt_output_path):\n",
    "    with open(json_path, \"r\") as f:\n",
    "        annotations = json.load(f)\n",
    "\n",
    "    bboxes = annotations.get(\"bbox\", [])\n",
    "    with open(txt_output_path, \"w\") as f:\n",
    "        for bbox in bboxes:\n",
    "            coordinates = bbox[\"coordinates\"]\n",
    "            # Write the class index (0 for all, as per your example) followed by the coordinates\n",
    "            f.write(f\"0 {coordinates[0]} {coordinates[1]} {coordinates[2]} {coordinates[3]}\\n\")\n",
    "\n",
    "\n",
    "def process_all_annotations(source_dir, dest_dir):\n",
    "    for split in [\"train\", \"val\", \"test\"]:\n",
    "        json_dir = os.path.join(source_dir, \"labels\", split)\n",
    "        txt_dir = os.path.join(dest_dir, \"labels\", split)\n",
    "        os.makedirs(txt_dir, exist_ok=True)\n",
    "\n",
    "        for json_file in os.listdir(json_dir):\n",
    "            if json_file.endswith(\".json\"):\n",
    "                json_path = os.path.join(json_dir, json_file)\n",
    "                txt_output_path = os.path.join(txt_dir, json_file.replace(\".json\", \".txt\"))\n",
    "                convert_json_to_yolo(json_path, txt_output_path)"
   ]
  },
  {
   "cell_type": "code",
   "execution_count": 4,
   "metadata": {},
   "outputs": [],
   "source": [
    "source_base = \"/mnt/aix22301/onj/dataset/v2/YOLO_PA\"\n",
    "dest_base = \"/mnt/aix22301/onj/dataset/v2/YOLO_PA\"\n",
    "process_all_annotations(source_base, dest_base)"
   ]
  },
  {
   "cell_type": "code",
   "execution_count": null,
   "metadata": {},
   "outputs": [],
   "source": []
  }
 ],
 "metadata": {
  "kernelspec": {
   "display_name": "onj",
   "language": "python",
   "name": "python3"
  },
  "language_info": {
   "codemirror_mode": {
    "name": "ipython",
    "version": 3
   },
   "file_extension": ".py",
   "mimetype": "text/x-python",
   "name": "python",
   "nbconvert_exporter": "python",
   "pygments_lexer": "ipython3",
   "version": "3.10.14"
  }
 },
 "nbformat": 4,
 "nbformat_minor": 2
}
