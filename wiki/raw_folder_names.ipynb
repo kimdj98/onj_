{
 "cells": [
  {
   "cell_type": "markdown",
   "metadata": {},
   "source": [
    "### Do not modify"
   ]
  },
  {
   "cell_type": "code",
   "execution_count": null,
   "metadata": {},
   "outputs": [
    {
     "data": {
      "text/plain": [
       "{'Bone SCAN',\n",
       " 'BoneSCAN',\n",
       " 'BoneSPECT',\n",
       " 'Bonescan',\n",
       " 'Bonespect',\n",
       " 'CBCT',\n",
       " 'MDCT',\n",
       " 'panorama',\n",
       " '임상사진'}"
      ]
     },
     "metadata": {},
     "output_type": "display_data"
    }
   ],
   "source": [
    "folders = set()\n",
    "for patient in X:\n",
    "    folders.update((x.split(\"/\")[-2] for x in glob.glob(patient + \"*/\")))\n",
    "\n",
    "folders"
   ]
  }
 ],
 "metadata": {
  "language_info": {
   "name": "python"
  }
 },
 "nbformat": 4,
 "nbformat_minor": 2
}
